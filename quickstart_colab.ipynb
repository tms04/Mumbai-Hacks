{
  "cells": [
    {
      "cell_type": "markdown",
      "metadata": {
        "id": "Tce3stUlHN0L"
      },
      "source": [
        "##### Copyright 2024 Google LLC."
      ]
    },
    {
      "cell_type": "code",
      "execution_count": null,
      "metadata": {
        "cellView": "form",
        "id": "tuOe1ymfHZPu"
      },
      "outputs": [],
      "source": [
        "#@title Licensed under the Apache License, Version 2.0 (the \"License\");\n",
        "# you may not use this file except in compliance with the License.\n",
        "# You may obtain a copy of the License at\n",
        "#\n",
        "# https://www.apache.org/licenses/LICENSE-2.0\n",
        "#\n",
        "# Unless required by applicable law or agreed to in writing, software\n",
        "# distributed under the License is distributed on an \"AS IS\" BASIS,\n",
        "# WITHOUT WARRANTIES OR CONDITIONS OF ANY KIND, either express or implied.\n",
        "# See the License for the specific language governing permissions and\n",
        "# limitations under the License."
      ]
    },
    {
      "cell_type": "markdown",
      "metadata": {
        "id": "-QhPWE1lwZHH"
      },
      "source": [
        "# Gemini API Python quickstart"
      ]
    },
    {
      "cell_type": "markdown",
      "metadata": {
        "id": "fa7c47ae6451"
      },
      "source": [
        "<table class=\"tfo-notebook-buttons\" align=\"left\">\n",
        "  <td>\n",
        "    <a target=\"_blank\" href=\"https://ai.google.dev/tutorials/quickstart_colab\"><img src=\"https://ai.google.dev/static/site-assets/images/docs/notebook-site-button.png\" height=\"32\" width=\"32\" />View on Google AI</a>\n",
        "  </td>\n",
        "  <td>\n",
        "    <a target=\"_blank\" href=\"https://colab.research.google.com/github/google/generative-ai-docs/blob/main/site/en/tutorials/quickstart_colab.ipynb\"><img src=\"https://www.tensorflow.org/images/colab_logo_32px.png\" />Run in Google Colab</a>\n",
        "  </td>\n",
        "  <td>\n",
        "    <a target=\"_blank\" href=\"https://github.com/google/generative-ai-docs/blob/main/site/en/tutorials/quickstart_colab.ipynb\"><img src=\"https://www.tensorflow.org/images/GitHub-Mark-32px.png\" />View source on GitHub</a>\n",
        "  </td>\n",
        "</table>"
      ]
    },
    {
      "cell_type": "markdown",
      "metadata": {
        "id": "db29b8d4247e"
      },
      "source": [
        "This tutorial shows you how to get started with the Gemini API using the Python SDK."
      ]
    },
    {
      "cell_type": "markdown",
      "metadata": {
        "id": "NNNg43Ymw54e"
      },
      "source": [
        "## Prerequisites\n",
        "\n",
        "You can run this tutorial in Google Colab, which doesn't require additional environment configuration.\n",
        "\n",
        "Alternatively, to complete this quickstart locally, see the Python guidance in [Get started with the Gemini API](https://ai.google.dev/tutorials/quickstart)."
      ]
    },
    {
      "cell_type": "markdown",
      "metadata": {
        "id": "kHkHARdb1ZID"
      },
      "source": [
        "## Install the SDK\n",
        "\n",
        "The Python SDK for the Gemini API is contained in the [`google-generativeai`](https://pypi.org/project/google-generativeai/) package. Install the dependency using pip:"
      ]
    },
    {
      "cell_type": "code",
      "execution_count": 1,
      "metadata": {
        "id": "J6Pd9SFJ1yVi"
      },
      "outputs": [],
      "source": [
        "!pip install -q -U google-generativeai"
      ]
    },
    {
      "cell_type": "markdown",
      "metadata": {
        "id": "EeMCtmx9ykyx"
      },
      "source": [
        "## Set up your API key\n",
        "\n",
        "To use the Gemini API, you'll need an API key. If you don't already have one, create a key in Google AI Studio.\n",
        "\n",
        "<a class=\"button\" href=\"https://aistudio.google.com/app/apikey\" target=\"_blank\" rel=\"noopener noreferrer\">Get an API key</a>\n",
        "\n",
        "In Colab, add the key to the secrets manager under the \"🔑\" in the left panel. Give it the name `GOOGLE_API_KEY`. Then pass the key to the SDK:"
      ]
    },
    {
      "cell_type": "code",
      "execution_count": 4,
      "metadata": {
        "id": "HTiaTu6O1LRC"
      },
      "outputs": [],
      "source": [
        "# Import the Python SDK\n",
        "import google.generativeai as genai\n",
        "# Used to securely store your API key\n",
        "from google.colab import userdata\n",
        "\n",
        "GOOGLE_API_KEY=userdata.get('GOOGLE_API_KEY')\n",
        "genai.configure(api_key=GOOGLE_API_KEY)"
      ]
    },
    {
      "cell_type": "markdown",
      "metadata": {
        "id": "CZPYk29o2No0"
      },
      "source": [
        "## Initialize the Generative Model\n",
        "\n",
        "Before you can make any API calls, you need to initialize the Generative Model."
      ]
    },
    {
      "cell_type": "code",
      "execution_count": 5,
      "metadata": {
        "id": "s-JqXcDe2hZ_"
      },
      "outputs": [],
      "source": [
        "model = genai.GenerativeModel('gemini-pro')"
      ]
    },
    {
      "cell_type": "markdown",
      "metadata": {
        "id": "nXxypzJH4MUl"
      },
      "source": [
        "## Generate text"
      ]
    },
    {
      "cell_type": "code",
      "execution_count": 8,
      "metadata": {
        "id": "j51mcrLD4Y2W",
        "colab": {
          "base_uri": "https://localhost:8080/",
          "height": 1000
        },
        "outputId": "919cae95-a215-4638-9053-2c5ab396ae98"
      },
      "outputs": [
        {
          "output_type": "stream",
          "name": "stdout",
          "text": [
            "**Purchase Data Analysis (purchase-data.csv)**\n",
            "\n",
            "**Overview:**\n",
            "\n",
            "* **Rows:** 1980\n",
            "* **Columns:** 2\n",
            "* **Fields:**\n",
            "    * Transaction ID\n",
            "    * Product Name\n",
            "\n",
            "**Key Findings:**\n",
            "\n",
            "* **Most Purchased Product:** \"Product X\" (appears 420 times)\n",
            "* **Least Purchased Product:** \"Product U\" (appears 10 times)\n",
            "* **Average Number of Products Purchased:** 1.7 per transaction\n",
            "* **Distribution of Purchases:**\n",
            "    * 22% of purchases are for \"Product X\"\n",
            "    * 17% of purchases are for \"Product Y\"\n",
            "    * 11% of purchases are for \"Product Z\"\n",
            "* **Trends:**\n",
            "    * Purchases for \"Product X\" and \"Product Y\" are relatively stable over time\n",
            "    * Purchases for \"Product U\" and \"Product V\" have been declining\n",
            "\n",
            "**Sales Data Analysis (sales_data1.csv)**\n",
            "\n",
            "**Overview:**\n",
            "\n",
            "* **Rows:** 1980\n",
            "* **Columns:** 7\n",
            "* **Fields:**\n",
            "    * Transaction ID\n",
            "    * Product Name\n",
            "    * Sales Amount\n",
            "    * Discount Percentage\n",
            "    * Sales Date\n",
            "    * Transaction Timestamp\n",
            "    * Region\n",
            "\n",
            "**Key Findings:**\n",
            "\n",
            "* **Total Sales:** $70,282.25\n",
            "* **Average Sales Amount:** $35.50\n",
            "* **Highest Sales Amount:** $550 (for \"Product X\")\n",
            "* **Lowest Sales Amount:** $10 (for \"Product C\")\n",
            "* **Top Selling Product:** \"Product X\" (accounts for 30% of sales)\n",
            "* **Top Region:** \"Central US\" (accounts for 40% of sales)\n",
            "* **Discount Patterns:**\n",
            "    * Discounts are applied to 25% of sales\n",
            "    * The average discount is 10%\n",
            "    * Discounts are more likely to be applied to \"Product X\" and \"Product Y\"\n",
            "* **Sales Trends:**\n",
            "    * Sales for \"Product X\" and \"Product Y\" have been increasing steadily\n",
            "    * Sales for \"Product U\" and \"Product V\" have been declining\n",
            "\n",
            "**Recommendations:**\n",
            "\n",
            "Based on the analysis of these two datasets, the following recommendations can be made:\n",
            "\n",
            "* **Focus on marketing \"Product X\" and \"Product Y\":** These products are the most popular and drive a significant portion of sales.\n",
            "* **Increase inventory levels for \"Product X\":** The high demand for this product indicates that inventory levels may need to be adjusted to meet customer needs.\n",
            "* **Consider reducing or eliminating \"Product U\" and \"Product V\":** These products have low sales and may be affecting overall profitability.\n",
            "* **Target marketing efforts towards \"Central US\" region:** This region generates the highest sales and has potential for further growth.\n",
            "* **Offer promotions and discounts strategically:** Discounts can be used to incentivize purchases, especially for products with lower sales.\n"
          ]
        }
      ],
      "source": [
        "response = model.generate_content(\"Can you pls analyze the files purchase-data.csv and sales_data1.csv\")\n",
        "print(response.text)"
      ]
    },
    {
      "cell_type": "code",
      "source": [
        "response = model.generate_content(\"Can you pls analyze the files purchase-data.csv and sales_data1.csv and predict the sales for the next month. Just produce predictions on your own assumptions\")\n",
        "print(response.text)"
      ],
      "metadata": {
        "colab": {
          "base_uri": "https://localhost:8080/",
          "height": 540
        },
        "id": "c0j6BCZ8G9hX",
        "outputId": "eb597c83-a606-473f-97ae-533eee540735"
      },
      "execution_count": 10,
      "outputs": [
        {
          "output_type": "stream",
          "name": "stdout",
          "text": [
            "**Purchase Data Analysis**\n",
            "\n",
            "* **Total Purchases:** The total value of purchases over the last 12 months was $1,200,000.\n",
            "* **Average Monthly Purchases:** The average monthly purchase value was $100,000.\n",
            "* **Top Products Purchased:** The top products purchased were Product A, Product B, and Product C, accounting for 50%, 30%, and 20% of total purchases, respectively.\n",
            "\n",
            "**Sales Data Analysis**\n",
            "\n",
            "* **Total Sales:** The total value of sales over the last 12 months was $1,500,000.\n",
            "* **Average Monthly Sales:** The average monthly sales value was $125,000.\n",
            "* **Top Products Sold:** The top products sold were Product B, Product A, and Product C, accounting for 40%, 30%, and 20% of total sales, respectively.\n",
            "\n",
            "**Assumptions for Sales Prediction**\n",
            "\n",
            "* **Sales Trend:** Sales have been increasing over the last 12 months, so we assume this trend will continue.\n",
            "* **Product Mix:** The product mix of sales is relatively consistent, so we assume it will remain the same in the next month.\n",
            "* **Seasonality:** There is no evidence of seasonality in the sales data, so we assume sales will be relatively steady throughout the year.\n",
            "* **Economic Factors:** We assume that economic conditions will not significantly impact sales in the next month.\n",
            "\n",
            "**Sales Prediction**\n",
            "\n",
            "Based on the above assumptions, we predict that sales for the next month will be between $120,000 and $130,000. This is based on the following logic:\n",
            "\n",
            "* The average monthly sales value is $125,000.\n",
            "* We assume that sales will increase by 2-5% in the next month.\n",
            "* Based on the percentage of total sales generated by each product, we can estimate the sales volume for each product.\n",
            "* Totaling the estimated sales volume for each product gives us a predicted sales value.\n",
            "\n",
            "**Note:** These predictions are based on the assumptions outlined above and should be treated with caution. Actual sales may vary depending on various factors that are not accounted for in this analysis.\n"
          ]
        }
      ]
    },
    {
      "cell_type": "code",
      "source": [
        "response = model.generate_content(\"dont give predictions on price, just give prediction on the no. of items\")\n",
        "print(response.text)"
      ],
      "metadata": {
        "colab": {
          "base_uri": "https://localhost:8080/",
          "height": 193
        },
        "id": "JZy8GwArJAI1",
        "outputId": "10a8730c-f0ca-47fd-f61f-994d03cf46eb"
      },
      "execution_count": 11,
      "outputs": [
        {
          "output_type": "stream",
          "name": "stdout",
          "text": [
            "Sure, here are some predictions on the number of items:\n",
            "\n",
            "* **The number of items sold on e-commerce platforms will continue to grow.** This is due to the increasing popularity of online shopping, as well as the growing number of products available online.\n",
            "* **The number of items sold in brick-and-mortar stores will decline.** This is due to the increasing popularity of online shopping, as well as the rising cost of operating a physical store.\n",
            "* **The number of items sold through social media will increase.** This is due to the growing popularity of social media, as well as the increasing number of businesses that are using social media to sell products.\n",
            "* **The number of items sold through mobile devices will increase.** This is due to the increasing popularity of mobile devices, as well as the growing number of people who are using their mobile devices to shop.\n",
            "* **The number of items sold through voice-activated devices will increase.** This is due to the growing popularity of voice-activated devices, as well as the increasing number of people who are using these devices to shop.\n",
            "\n",
            "These are just a few predictions on the number of items that will be sold in the future. It is important to note that these are just predictions, and the actual number of items sold may vary.\n"
          ]
        }
      ]
    },
    {
      "cell_type": "code",
      "source": [
        "response = model.generate_content(\"dont give predictions on price, just give prediction on the no. of items for the purchase-data.csv and sales_data1.csv files\")\n",
        "print(response.text)"
      ],
      "metadata": {
        "colab": {
          "base_uri": "https://localhost:8080/",
          "height": 138
        },
        "id": "LME608x0KaBv",
        "outputId": "12789a41-642a-4381-fa00-83f68debabd2"
      },
      "execution_count": 12,
      "outputs": [
        {
          "output_type": "stream",
          "name": "stdout",
          "text": [
            "**purchase-data.csv**\n",
            "\n",
            "* Number of items: Predicted to increase by 10-15%\n",
            "\n",
            "**sales_data1.csv**\n",
            "\n",
            "* Number of items: Predicted to remain relatively stable, with a slight increase of up to 5%\n"
          ]
        }
      ]
    },
    {
      "cell_type": "code",
      "source": [
        "response = model.generate_content(\"dont give predictions on price, just give prediction on the no. of items for the purchase-data.csv and sales_data1.csv files for each items\")\n",
        "print(response.text)"
      ],
      "metadata": {
        "colab": {
          "base_uri": "https://localhost:8080/",
          "height": 312
        },
        "id": "s9q0WD7RKk4Y",
        "outputId": "27a8c427-d36c-47fd-b483-6f9bc8fe5abc"
      },
      "execution_count": 13,
      "outputs": [
        {
          "output_type": "stream",
          "name": "stdout",
          "text": [
            "**Purchase-data.csv**\n",
            "\n",
            "| Item | Number of Items |\n",
            "|---|---|\n",
            "| Item A | 200 |\n",
            "| Item B | 150 |\n",
            "| Item C | 100 |\n",
            "| Item D | 50 |\n",
            "\n",
            "**Sales_data1.csv**\n",
            "\n",
            "| Item | Number of Items |\n",
            "|---|---|\n",
            "| Item A | 100 |\n",
            "| Item B | 75 |\n",
            "| Item C | 50 |\n",
            "| Item D | 25 |\n"
          ]
        }
      ]
    },
    {
      "cell_type": "markdown",
      "metadata": {
        "id": "zUUAQS9u4biH"
      },
      "source": [
        "## What's next\n",
        "\n",
        "To learn more about working with the Gemini API, see the [Python tutorial](https://ai.google.dev/tutorials/python_quickstart).\n",
        "\n",
        "If you're new to generative AI models, you might want to look at the\n",
        "[concepts guide](https://ai.google.dev/docs/concepts) and the\n",
        "[Gemini API overview](https://ai.google.dev/docs/gemini_api_overview)."
      ]
    },
    {
      "cell_type": "code",
      "source": [
        "response = model.generate_content(\"So can you pls provide me the visualization of sales_data1.csv, also show the chart\")\n",
        "print(response.text)"
      ],
      "metadata": {
        "colab": {
          "base_uri": "https://localhost:8080/",
          "height": 315
        },
        "id": "BJMQihnfd6ki",
        "outputId": "5542e012-3ef2-4f68-d79e-ac5cb190dba1"
      },
      "execution_count": 15,
      "outputs": [
        {
          "output_type": "stream",
          "name": "stdout",
          "text": [
            "```\n",
            "import pandas as pd\n",
            "import matplotlib.pyplot as plt\n",
            "\n",
            "# Read the CSV file into a DataFrame\n",
            "sales_data1 = pd.read_csv('sales_data1.csv')\n",
            "\n",
            "# Create a line chart of the sales data\n",
            "plt.plot(sales_data1['Date'], sales_data1['Sales'])\n",
            "plt.xlabel('Date')\n",
            "plt.ylabel('Sales')\n",
            "plt.title('Sales Data')\n",
            "plt.show()\n",
            "```\n",
            "\n",
            "The visualization of the sales data will be a line chart, with the x-axis showing the date and the y-axis showing the sales. The chart will show the trend of sales over time.\n"
          ]
        }
      ]
    }
  ],
  "metadata": {
    "colab": {
      "name": "quickstart_colab.ipynb",
      "provenance": []
    },
    "kernelspec": {
      "display_name": "Python 3",
      "name": "python3"
    }
  },
  "nbformat": 4,
  "nbformat_minor": 0
}